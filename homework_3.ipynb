{
 "cells": [
  {
   "cell_type": "markdown",
   "metadata": {
    "colab_type": "text",
    "id": "jmUyqMoQ8ii_"
   },
   "source": [
    "### Задание 1:"
   ]
  },
  {
   "cell_type": "markdown",
   "metadata": {
    "colab_type": "text",
    "id": "4Se8Xadc8ijJ"
   },
   "source": [
    "Придумайте матрицы, которые обладают следующими свойствами:"
   ]
  },
  {
   "cell_type": "markdown",
   "metadata": {
    "colab_type": "text",
    "id": "f8CTbEvc8ijO"
   },
   "source": [
    "a) диагональная, ортогональная, но не единичная(!):\n",
    "\n",
    "b) верхнетреугольная, ортогональная:\n",
    "\n",
    "c) нижнетреугольная, ортогональная: \n",
    "\n",
    "d) матрица, у которой определитель = 1, и все элементы не равны 0:\n",
    "\n",
    "e) матрица (3x3), у которой определитель = 1:"
   ]
  },
  {
   "cell_type": "markdown",
   "metadata": {
    "colab_type": "text",
    "id": "kVVpm94k8ijS"
   },
   "source": [
    "P.S. Во всех пунктах ответом должна быть ненулевая матрица размерности не менее 2!"
   ]
  },
  {
   "cell_type": "code",
   "execution_count": 1,
   "metadata": {
    "colab": {},
    "colab_type": "code",
    "id": "TBfAi_Dx8nhM"
   },
   "outputs": [],
   "source": [
    "import numpy as np\n",
    "import pylab as pl\n",
    "import warnings\n",
    "\n",
    "from matplotlib import pyplot as plt\n",
    "from scipy import linalg\n",
    "from sklearn.datasets import load_digits\n",
    "from sklearn.decomposition import TruncatedSVD\n",
    "from sklearn.ensemble import RandomForestClassifier\n",
    "warnings.filterwarnings(\"ignore\")"
   ]
  },
  {
   "cell_type": "markdown",
   "metadata": {
    "colab_type": "text",
    "id": "ds4k27WZ_bdr"
   },
   "source": [
    "**a) диагональная, ортогональная, но не единичная(!)**\n",
    "\n",
    "Диагональная - значит все элементы, кроме главной диагонали равы 0.\n",
    "Ортогональная - значит при умножении матрицы на ее же транспонированнную получится единичная матрица.\n",
    "Единичная матрица - квадратная диагональная у которой элементы главной диагонали равны 1.\n",
    "\n",
    "При умножении диагональных матриц элементы главной диагонали перемножаются.\n",
    "\n",
    "Получается, что главная диагональ должна состоять из элементов, которые при умножении сами на себя дают 1. Для любого элемента $x$ должно быть верно: $x^{2}=1$ Решения уравнения 1 и -1. То есть, элементы главной диагонали должны содержать 1 и -1 в произвольном распределении, но -1 обязательно должны быть согласно условию."
   ]
  },
  {
   "cell_type": "code",
   "execution_count": 2,
   "metadata": {
    "colab": {
     "base_uri": "https://localhost:8080/",
     "height": 67
    },
    "colab_type": "code",
    "id": "tNZcfMpW88_b",
    "outputId": "0eff6236-25a9-4af6-ab72-8127833d0578"
   },
   "outputs": [
    {
     "name": "stdout",
     "output_type": "stream",
     "text": [
      "[[-1  0  0]\n",
      " [ 0  1  0]\n",
      " [ 0  0 -1]]\n"
     ]
    }
   ],
   "source": [
    "m_0 = np.diag([-1,1,-1])\n",
    "print(m_0)"
   ]
  },
  {
   "cell_type": "code",
   "execution_count": 3,
   "metadata": {
    "colab": {
     "base_uri": "https://localhost:8080/",
     "height": 67
    },
    "colab_type": "code",
    "id": "Z6zbqkUl-DNC",
    "outputId": "91f59e0e-f927-4d1c-ceab-269cded113c3"
   },
   "outputs": [
    {
     "data": {
      "text/plain": [
       "array([[1, 0, 0],\n",
       "       [0, 1, 0],\n",
       "       [0, 0, 1]])"
      ]
     },
     "execution_count": 3,
     "metadata": {},
     "output_type": "execute_result"
    }
   ],
   "source": [
    "np.dot(m_0.T, m_0)"
   ]
  },
  {
   "cell_type": "markdown",
   "metadata": {
    "colab_type": "text",
    "id": "iozpt5MyCaNj"
   },
   "source": [
    "**b) верхнетреугольная, ортогональная**"
   ]
  },
  {
   "cell_type": "markdown",
   "metadata": {},
   "source": [
    "Чтобы не искать методом \"научного тыка\", выведем зависимость. Обозначим элементы матрицы a, b, c, d. Тогда:"
   ]
  },
  {
   "cell_type": "code",
   "execution_count": 4,
   "metadata": {
    "colab": {
     "base_uri": "https://localhost:8080/",
     "height": 67
    },
    "colab_type": "code",
    "id": "0Poppr4SBN_I",
    "outputId": "09463bd2-0d49-4f97-fef8-0bb9ac78433d"
   },
   "outputs": [
    {
     "name": "stdout",
     "output_type": "stream",
     "text": [
      "[['a' 'b']\n",
      " ['c' 'd']]\n"
     ]
    }
   ],
   "source": [
    "m_1 = np.array([['a','b'], ['c','d']])\n",
    "print(m_1)"
   ]
  },
  {
   "cell_type": "code",
   "execution_count": 5,
   "metadata": {
    "colab": {
     "base_uri": "https://localhost:8080/",
     "height": 67
    },
    "colab_type": "code",
    "id": "hraCkM12CmHa",
    "outputId": "133d24ea-57a2-4181-cdeb-8981e2a7fc86"
   },
   "outputs": [
    {
     "name": "stdout",
     "output_type": "stream",
     "text": [
      "[['a' 'c']\n",
      " ['b' 'd']]\n"
     ]
    }
   ],
   "source": [
    "print(m_1.T)"
   ]
  },
  {
   "cell_type": "code",
   "execution_count": 6,
   "metadata": {},
   "outputs": [
    {
     "name": "stdout",
     "output_type": "stream",
     "text": [
      "[['a^2+b^2' 'ac+bd']\n",
      " ['ac+bd' 'c^2+d^2']]\n"
     ]
    }
   ],
   "source": [
    "print(np.array([ ['a^2+b^2','ac+bd'], ['ac+bd', 'c^2+d^2'] ]))"
   ]
  },
  {
   "cell_type": "markdown",
   "metadata": {},
   "source": [
    "Из условия ортогональности получается следующая система:\n",
    "$$a^{2} + b^{2} = 1$$\n",
    "$$ac + bd = 0$$\n",
    "$$c^{2} + d^{2} = 1$$\n",
    "\n",
    "Из уравнения 1: \n",
    "- либо $a=0, b=1 (b=-1)$, \n",
    "- либо $a=1 (a=-1), b=0$, \n",
    "- либо $a=b=(+-1/2)^{1/2}$\n",
    "Аналогично для: \n",
    "- $c$ и $d$\n",
    "Из уравнения 2: \n",
    "- либо $ac=-bd$ \n",
    "- либо в каждом из произведений один из членов равен 0. \n",
    "Из условия треугольности: \n",
    "- $b!=0$ , при этом $c=0$"
   ]
  },
  {
   "cell_type": "code",
   "execution_count": 7,
   "metadata": {},
   "outputs": [
    {
     "name": "stdout",
     "output_type": "stream",
     "text": [
      "[[ 0 -1]\n",
      " [ 0 -1]]\n"
     ]
    }
   ],
   "source": [
    "m_1 = np.array([ [0, -1], [0, -1] ])\n",
    "print(m_1)"
   ]
  },
  {
   "cell_type": "code",
   "execution_count": 8,
   "metadata": {},
   "outputs": [
    {
     "data": {
      "text/plain": [
       "array([[1, 1],\n",
       "       [1, 1]])"
      ]
     },
     "execution_count": 8,
     "metadata": {},
     "output_type": "execute_result"
    }
   ],
   "source": [
    "np.dot(m_1, m_1.T)"
   ]
  },
  {
   "cell_type": "markdown",
   "metadata": {},
   "source": [
    "Из указаных условий наиболее близок вариант выше, но всем условиям он не соответствует. А именно, матрица не ортогональная, при умножении на саму себя транспонированную дает матрицу из единиц, но не единичную матрицу. "
   ]
  },
  {
   "cell_type": "markdown",
   "metadata": {
    "colab_type": "text",
    "id": "G5wq1OmYDuFz"
   },
   "source": [
    "**c) нижнетреугольная, ортогональная:**"
   ]
  },
  {
   "cell_type": "markdown",
   "metadata": {},
   "source": [
    "Рассуждения относительно нижнетреугольной аналогичны. В итоге, хотя бы одно из условий не выполняется. Вот вариант, который ортогонален, но при этом не треугольный."
   ]
  },
  {
   "cell_type": "code",
   "execution_count": 9,
   "metadata": {
    "colab": {},
    "colab_type": "code",
    "id": "fSgm94piD5Ag"
   },
   "outputs": [
    {
     "name": "stdout",
     "output_type": "stream",
     "text": [
      "[[ 0 -1]\n",
      " [-1  0]]\n"
     ]
    }
   ],
   "source": [
    "m_2 = np.array([[0, -1], [-1, 0] ])\n",
    "print(m_2)"
   ]
  },
  {
   "cell_type": "code",
   "execution_count": 10,
   "metadata": {},
   "outputs": [
    {
     "data": {
      "text/plain": [
       "array([[1, 0],\n",
       "       [0, 1]])"
      ]
     },
     "execution_count": 10,
     "metadata": {},
     "output_type": "execute_result"
    }
   ],
   "source": [
    "np.dot(m_2, m_2.T)"
   ]
  },
  {
   "cell_type": "code",
   "execution_count": 11,
   "metadata": {},
   "outputs": [
    {
     "name": "stdout",
     "output_type": "stream",
     "text": [
      "[[ 0  0]\n",
      " [-1  0]]\n"
     ]
    }
   ],
   "source": [
    "# Встроенная функция для создания треугольных матриц дает вот такой результат\n",
    "m_2 = np.tril([[0, -1], [-1, 0]], 0 )\n",
    "print(m_2)"
   ]
  },
  {
   "cell_type": "code",
   "execution_count": 12,
   "metadata": {},
   "outputs": [
    {
     "data": {
      "text/plain": [
       "array([[0, 0],\n",
       "       [0, 1]])"
      ]
     },
     "execution_count": 12,
     "metadata": {},
     "output_type": "execute_result"
    }
   ],
   "source": [
    "np.dot(m_2, m_2.T)"
   ]
  },
  {
   "cell_type": "markdown",
   "metadata": {
    "colab_type": "text",
    "id": "40a2t7rjD5vS"
   },
   "source": [
    "**d) матрица, у которой определитель = 1, и все элементы не равны 0**"
   ]
  },
  {
   "cell_type": "code",
   "execution_count": 13,
   "metadata": {
    "colab": {
     "base_uri": "https://localhost:8080/",
     "height": 50
    },
    "colab_type": "code",
    "id": "owqVOdQkEB7w",
    "outputId": "d3fd75c3-e1f7-40ec-cfd1-2996ab3d40a7"
   },
   "outputs": [
    {
     "data": {
      "text/plain": [
       "array([[ 1. ,  2. ],\n",
       "       [-1.5, -2. ]])"
      ]
     },
     "execution_count": 13,
     "metadata": {},
     "output_type": "execute_result"
    }
   ],
   "source": [
    "m_3 = np.array([ [1, 2], [-1.5, -2] ])\n",
    "m_3"
   ]
  },
  {
   "cell_type": "code",
   "execution_count": 14,
   "metadata": {
    "colab": {
     "base_uri": "https://localhost:8080/",
     "height": 34
    },
    "colab_type": "code",
    "id": "WjdtFsDbHJvZ",
    "outputId": "bcaf1118-ecac-4760-db9b-fb70f31e1fb4"
   },
   "outputs": [
    {
     "data": {
      "text/plain": [
       "1.0"
      ]
     },
     "execution_count": 14,
     "metadata": {},
     "output_type": "execute_result"
    }
   ],
   "source": [
    "np.linalg.det(m_3)"
   ]
  },
  {
   "cell_type": "markdown",
   "metadata": {
    "colab_type": "text",
    "id": "3e9W6OoCJBRr"
   },
   "source": [
    "Если решать на бумаге, то получается:\n",
    "$$1*(-2) - 2*(-1.5) = -2 + 3 = 1$$"
   ]
  },
  {
   "cell_type": "markdown",
   "metadata": {
    "colab_type": "text",
    "id": "SoOpOEiqEHyi"
   },
   "source": [
    "**e) матрица (3x3), у которой определитель = 1**\n",
    "\n",
    "Если не искать долгим путем, то достаточно, чтобы произведение элементов глвной диагонали равнялось 1, произведение элементов главного треугольника равнялось 0, произведение элементов побочной диагоноли равнялось 0 и элементов побочного треугольника равнялось 0."
   ]
  },
  {
   "cell_type": "code",
   "execution_count": 15,
   "metadata": {
    "colab": {
     "base_uri": "https://localhost:8080/",
     "height": 67
    },
    "colab_type": "code",
    "id": "wUMXoKpLEItk",
    "outputId": "218cc531-4ecf-4980-a7bb-85e16f825b97"
   },
   "outputs": [
    {
     "data": {
      "text/plain": [
       "array([[ 1,  0, -1],\n",
       "       [ 1, -1,  1],\n",
       "       [ 0,  0, -1]])"
      ]
     },
     "execution_count": 15,
     "metadata": {},
     "output_type": "execute_result"
    }
   ],
   "source": [
    "m_4 = np.array([ [1, 0, -1 ], [1, -1, 1], [0, 0, -1] ])\n",
    "m_4"
   ]
  },
  {
   "cell_type": "code",
   "execution_count": 16,
   "metadata": {
    "colab": {
     "base_uri": "https://localhost:8080/",
     "height": 34
    },
    "colab_type": "code",
    "id": "_19jMB8bFCOW",
    "outputId": "22faba4c-20c9-4216-9eac-b2e9b9adffa8"
   },
   "outputs": [
    {
     "data": {
      "text/plain": [
       "1.0"
      ]
     },
     "execution_count": 16,
     "metadata": {},
     "output_type": "execute_result"
    }
   ],
   "source": [
    "np.linalg.det(m_4)"
   ]
  },
  {
   "cell_type": "markdown",
   "metadata": {
    "colab_type": "text",
    "id": "n7lnyaET8ijW"
   },
   "source": [
    "### Задание 2:"
   ]
  },
  {
   "cell_type": "markdown",
   "metadata": {
    "colab_type": "text",
    "id": "g90pxnc08ijZ"
   },
   "source": [
    "Найдите собственные значения и собственные вектора матриц (необходимо решение на numpy и честное решение на бумаге:)"
   ]
  },
  {
   "cell_type": "code",
   "execution_count": 17,
   "metadata": {
    "colab": {
     "base_uri": "https://localhost:8080/",
     "height": 50
    },
    "colab_type": "code",
    "id": "Qmi6Onp58ijd",
    "outputId": "57174fe9-0ea8-4606-fa52-9d28ad251f9d"
   },
   "outputs": [
    {
     "name": "stdout",
     "output_type": "stream",
     "text": [
      "[[2 2]\n",
      " [1 3]]\n"
     ]
    }
   ],
   "source": [
    "m = np.array([[2, 2],\n",
    "              [1, 3]])\n",
    "print(m)"
   ]
  },
  {
   "cell_type": "code",
   "execution_count": 18,
   "metadata": {
    "colab": {
     "base_uri": "https://localhost:8080/",
     "height": 50
    },
    "colab_type": "code",
    "id": "jtZCFxg8KkmH",
    "outputId": "6cf6e237-8ced-48d9-a1bf-b685989cb8dd"
   },
   "outputs": [
    {
     "name": "stdout",
     "output_type": "stream",
     "text": [
      "[['2-x' '2']\n",
      " ['1' '3-x']]\n"
     ]
    }
   ],
   "source": [
    "#  Характеристический многочлен\n",
    "m_char = np.array([ ['2-x', 2], [1, '3-x']])\n",
    "print(m_char)"
   ]
  },
  {
   "cell_type": "markdown",
   "metadata": {
    "colab_type": "text",
    "id": "wQoEbBCIJtJx"
   },
   "source": [
    "Решая уравнение:\n",
    "$$(2-x)*(3-x) - 2 =0 $$\n",
    "$$6 - 5x + x^{2} - 2 = 0$$\n",
    "$$x^{2} - 5x + 4 = 0$$\n",
    "$$D = 25 - 16 = 9$$\n",
    "$$x1 = (5 + 3) /2 = 4$$\n",
    "$$x2 = (5 - 3) /2 = 1$$\n",
    "Собственные значения: 1 , 4"
   ]
  },
  {
   "cell_type": "markdown",
   "metadata": {
    "colab_type": "text",
    "id": "W6wfN94VP1cQ"
   },
   "source": [
    "Найдем собственные векторы. \n",
    "Получим матрицу коэффициентов для первого собственного значения **1**"
   ]
  },
  {
   "cell_type": "code",
   "execution_count": 19,
   "metadata": {
    "colab": {
     "base_uri": "https://localhost:8080/",
     "height": 50
    },
    "colab_type": "code",
    "id": "rzaT9g56QJtC",
    "outputId": "58541511-009a-4693-c39f-d61f42c292ae"
   },
   "outputs": [
    {
     "data": {
      "text/plain": [
       "array([[1, 2],\n",
       "       [1, 2]])"
      ]
     },
     "execution_count": 19,
     "metadata": {},
     "output_type": "execute_result"
    }
   ],
   "source": [
    "np.array([ [1, 2], [1, 2] ])"
   ]
  },
  {
   "cell_type": "markdown",
   "metadata": {
    "colab_type": "text",
    "id": "OblXgD2qQk2I"
   },
   "source": [
    "Из системы:\n",
    "$$x + 2y = 0$$\n",
    "$$x + 2y = 0$$\n",
    "Получается, что $x = -2y$\n",
    "\n",
    "Собственных векторов с таким условием бесконечное множество, возьмем тот, который соответствует принятым критериям - **х** положительный, целый, минимальный, а **у** недробный.\n",
    "\n",
    "Первый собственный вектор:\n",
    "$$(2,-1)$$"
   ]
  },
  {
   "cell_type": "markdown",
   "metadata": {
    "colab_type": "text",
    "id": "xF2rZJodVRNw"
   },
   "source": [
    "Получим матрицу коэффициентов для второго собственного значения **4**"
   ]
  },
  {
   "cell_type": "code",
   "execution_count": 20,
   "metadata": {
    "colab": {
     "base_uri": "https://localhost:8080/",
     "height": 50
    },
    "colab_type": "code",
    "id": "GPfSQFd2ReKn",
    "outputId": "0988fce6-c498-496c-d3b6-83ce85b856e6"
   },
   "outputs": [
    {
     "data": {
      "text/plain": [
       "array([[-2,  2],\n",
       "       [ 1, -1]])"
      ]
     },
     "execution_count": 20,
     "metadata": {},
     "output_type": "execute_result"
    }
   ],
   "source": [
    "np.array([[-2, 2], [1, -1] ])"
   ]
  },
  {
   "cell_type": "markdown",
   "metadata": {
    "colab_type": "text",
    "id": "DoQZDHYER7G3"
   },
   "source": [
    "Из системы:\n",
    "$$-2x + 2y = 0$$\n",
    "$$x - y = 0$$\n",
    "Получается, что $x=y$\n",
    "\n",
    "Аналогично, собственных векторов с таким условием бесконечно много, выберем аналогично условиям выше. \n",
    "\n",
    "Второй собственный вектор: $$(1,1)$$"
   ]
  },
  {
   "cell_type": "markdown",
   "metadata": {},
   "source": [
    "**Выполним проверку полученных собственных значений и векторов по определению:**\n",
    "- Проверим визуально результат умножения матрицы на первый собственный вектор (2,-1);\n",
    "- Проверим по определению равенство скалярного произведения матрицы на собственный вектор с одной стороны и собственного значения на собственный вектор с другой;"
   ]
  },
  {
   "cell_type": "code",
   "execution_count": 21,
   "metadata": {},
   "outputs": [],
   "source": [
    "v1 = [2, -1]\n",
    "v2 = [1, 1]\n",
    "w1 = 1\n",
    "w2 = 4"
   ]
  },
  {
   "cell_type": "code",
   "execution_count": 22,
   "metadata": {},
   "outputs": [
    {
     "data": {
      "text/plain": [
       "array([ 2, -1])"
      ]
     },
     "execution_count": 22,
     "metadata": {},
     "output_type": "execute_result"
    }
   ],
   "source": [
    "np.dot(m,v1)"
   ]
  },
  {
   "cell_type": "code",
   "execution_count": 23,
   "metadata": {},
   "outputs": [
    {
     "data": {
      "text/plain": [
       "array([ True,  True])"
      ]
     },
     "execution_count": 23,
     "metadata": {},
     "output_type": "execute_result"
    }
   ],
   "source": [
    "np.dot(m, v1) == w1 * v1"
   ]
  },
  {
   "cell_type": "code",
   "execution_count": 24,
   "metadata": {},
   "outputs": [
    {
     "data": {
      "text/plain": [
       "array([ True,  True])"
      ]
     },
     "execution_count": 24,
     "metadata": {},
     "output_type": "execute_result"
    }
   ],
   "source": [
    "np.dot(m,v2) / w2 == v2"
   ]
  },
  {
   "cell_type": "markdown",
   "metadata": {},
   "source": [
    "Найдем собственные значения и векторы используя библиотеку **linalg**:"
   ]
  },
  {
   "cell_type": "code",
   "execution_count": 25,
   "metadata": {
    "colab": {},
    "colab_type": "code",
    "id": "vGV9CyM0S_xC"
   },
   "outputs": [],
   "source": [
    "w,v = np.linalg.eig(m)"
   ]
  },
  {
   "cell_type": "code",
   "execution_count": 26,
   "metadata": {
    "colab": {
     "base_uri": "https://localhost:8080/",
     "height": 84
    },
    "colab_type": "code",
    "id": "mmXnftKYTOWb",
    "outputId": "8a1075c2-dada-4bd1-a769-d7128a4d7270"
   },
   "outputs": [
    {
     "name": "stdout",
     "output_type": "stream",
     "text": [
      "Собственное значение 1.0\n",
      "соответствующий ему собственный вектор [-0.89442719 -0.70710678]\n",
      "Собственное значение 4.0\n",
      "соответствующий ему собственный вектор [ 0.4472136  -0.70710678]\n"
     ]
    }
   ],
   "source": [
    "for i in range(len(w)):\n",
    "    print(\"Собственное значение \" + str(w[i]))\n",
    "    print(\"соответствующий ему собственный вектор \" + str(v[i]))"
   ]
  },
  {
   "cell_type": "code",
   "execution_count": 27,
   "metadata": {},
   "outputs": [
    {
     "data": {
      "text/plain": [
       "array([-3.20306794, -3.01574753])"
      ]
     },
     "execution_count": 27,
     "metadata": {},
     "output_type": "execute_result"
    }
   ],
   "source": [
    "np.dot(m, v[0])"
   ]
  },
  {
   "cell_type": "code",
   "execution_count": 28,
   "metadata": {},
   "outputs": [
    {
     "data": {
      "text/plain": [
       "array([-0.89442719, -0.70710678])"
      ]
     },
     "execution_count": 28,
     "metadata": {},
     "output_type": "execute_result"
    }
   ],
   "source": [
    "v[0]"
   ]
  },
  {
   "cell_type": "markdown",
   "metadata": {},
   "source": [
    "По собственным значениям расчеты совпали. С собственными векторами у **linalg** свой метод их определения. Если визуально проверить выполнение определения для собственного значения **1**, то численно они должны быть равны (умножение на 1), но это равенство не соблюдается."
   ]
  },
  {
   "cell_type": "markdown",
   "metadata": {
    "colab_type": "text",
    "id": "OeO3i-DY8iju"
   },
   "source": [
    "**Для данного примера в честном решении можно \"угадать\" корни многочлена 3-ей степени, посмотрев на решение на numpy**"
   ]
  },
  {
   "cell_type": "code",
   "execution_count": 29,
   "metadata": {
    "colab": {},
    "colab_type": "code",
    "id": "sGnTxeH98ijw",
    "outputId": "432f538c-7ef8-4221-e7c4-1bf372c0a01a"
   },
   "outputs": [
    {
     "name": "stdout",
     "output_type": "stream",
     "text": [
      "[[ 4  1 -1]\n",
      " [ 1  4 -1]\n",
      " [-1 -1  4]]\n"
     ]
    }
   ],
   "source": [
    "mm = np.array([[4, 1, -1],\n",
    "              [1, 4, -1],\n",
    "              [-1, -1, 4]])\n",
    "print(mm)"
   ]
  },
  {
   "cell_type": "code",
   "execution_count": 30,
   "metadata": {},
   "outputs": [
    {
     "name": "stdout",
     "output_type": "stream",
     "text": [
      "[['2-x' '2']\n",
      " ['1' '3-x']]\n"
     ]
    }
   ],
   "source": [
    "#  Характеристический многочлен\n",
    "mm_char = np.array([ ['4-x', 1, -1], [1, '4-x', -1], [-1, -1, '4-x'] ])\n",
    "print(m_char)"
   ]
  },
  {
   "cell_type": "markdown",
   "metadata": {},
   "source": [
    "Ищем собственные значения:\n",
    "\n",
    "$$(4-x)^{3} + (1*-1*-1) + (1*-1*-1) - ((4-x)*-1*-1 + (4-x)*-1*-1 + (4-x)*1*1)$$\n",
    "$$(4-x)^{3} + 2 - (4-x)*3$$\n",
    "$$(4-x)((4-x)^{2} + 3x - 10)$$\n",
    "$$(4-x)(x^{2} - 8x + 16 + 3x - 10)$$\n",
    "$$(4-x)(x^{2} - 5x + 6)$$\n",
    "$$D = 25 - 24 = 1$$\n",
    "Из первого множителя (многочлен первой степени):\n",
    "$$ x1 = 4$$\n",
    "Из второго множителя (многочлен второй степени):\n",
    "$$ x2 = (5 + 1)/2 = 3$$\n",
    "$$ x3 = (5-1)/2 = 2$$\n",
    "Собственные значения:\n",
    "* __2__ \n",
    "* __3__ \n",
    "* __4__\n"
   ]
  },
  {
   "cell_type": "markdown",
   "metadata": {},
   "source": [
    "**Ищем собственный вектор для первого собственного значения 2** \n",
    "решаем систему уравнений:\n",
    "$$ 2x + y -z = 0 $$\n",
    "$$ x + 2y -z = 0 $$\n",
    "$$ -x -y + 2z = 0 $$\n",
    "Из второго уравнения:\n",
    "$$ x = z - 2y $$\n",
    "Подставляем в первое и третье:\n",
    "$$ 2z - 4y + y - z = 0 $$\n",
    "$$ 2y - z -y +2z = 0 $$\n",
    "\n",
    "$$ z - 3y = 0 $$\n",
    "$$ y + z =0 $$\n",
    "\n",
    "Получается:\n",
    "$$ y = -z$$\n",
    "$$ z = 3y$$\n",
    "Этому удовлетворяет только тривиальное решение **z=0** и **y=0** и **x=0**, что получаем, подставляя для **x = z - 2y** \n",
    "\n",
    "Тривиальое решение нас не удовлетворяет. Попробуем другой способ. Сложив первые два уравнения получим:\n",
    "$$ 3x + 3y = 0$$\n",
    "$$ -x -y + 2z = 0$$\n",
    "Умножим нижнее на 3 и сложим с верхним:\n",
    "$$ 6z=0$$\n",
    "$$ z=0$$\n",
    "$$ x=-y$$\n",
    "Получается снова только тривальное решение."
   ]
  },
  {
   "cell_type": "markdown",
   "metadata": {},
   "source": [
    "**Ищем собственный вектор для второго собственного значения 3** \n",
    "решая систему уравнений:\n",
    "$$ x + y -z = 0 $$\n",
    "$$ x + y -z = 0 $$\n",
    "$$ -x -y + z = 0 $$\n",
    "Получается, что:\n",
    "$$ z = x + y $$\n",
    "Данному условию удовлетворяют множество векторов, возьмем **(1, 1, 2)**"
   ]
  },
  {
   "cell_type": "markdown",
   "metadata": {},
   "source": [
    "**Ищем собственный вектор для второго собственного значения 4** \n",
    "решая систему уравнений:\n",
    "$$ 0x + y - z = 0 $$\n",
    "$$ x + 0y - z = 0 $$\n",
    "$$ -x - y + 0z = 0 $$\n",
    "Откуда:\n",
    "$$ y=z $$\n",
    "$$ x=z $$\n",
    "$$ x=-y $$\n",
    "Этим условиям соответствует только тривиальное решение **(0, 0, 0)**"
   ]
  },
  {
   "cell_type": "markdown",
   "metadata": {},
   "source": [
    "**Выполним проверку полученных собственных значении и векторов на соответствие определению.** \n",
    "Для тривиального решения (0,0,0) выполнение очевидно, проверим для собственного значение **3** и собственного вектора **(1, 1, 2)**"
   ]
  },
  {
   "cell_type": "code",
   "execution_count": 31,
   "metadata": {},
   "outputs": [],
   "source": [
    "w = [2, 3, 4]\n",
    "v = [ [0, 0, 0], [1, 1, 2], [0, 0, 0] ]"
   ]
  },
  {
   "cell_type": "code",
   "execution_count": 32,
   "metadata": {},
   "outputs": [
    {
     "data": {
      "text/plain": [
       "array([0, 0, 0])"
      ]
     },
     "execution_count": 32,
     "metadata": {},
     "output_type": "execute_result"
    }
   ],
   "source": [
    "np.dot(mm,v[0])"
   ]
  },
  {
   "cell_type": "code",
   "execution_count": 33,
   "metadata": {},
   "outputs": [
    {
     "name": "stdout",
     "output_type": "stream",
     "text": [
      "[ True  True  True]\n"
     ]
    }
   ],
   "source": [
    "print( np.dot(mm,v[1]) / w[1] == v[1] )"
   ]
  },
  {
   "cell_type": "markdown",
   "metadata": {},
   "source": [
    "Найдем собственные значения и собственные векторы с применением бибилотеки **linalg**"
   ]
  },
  {
   "cell_type": "code",
   "execution_count": 34,
   "metadata": {},
   "outputs": [
    {
     "name": "stdout",
     "output_type": "stream",
     "text": [
      "[3.+0.j 6.+0.j 3.+0.j]\n"
     ]
    }
   ],
   "source": [
    "w,v = linalg.eig(mm)\n",
    "print(w)"
   ]
  },
  {
   "cell_type": "code",
   "execution_count": 35,
   "metadata": {},
   "outputs": [
    {
     "data": {
      "text/plain": [
       "array([[-0.81649658,  0.57735027, -0.27658128],\n",
       "       [ 0.40824829,  0.57735027,  0.8035929 ],\n",
       "       [-0.40824829, -0.57735027,  0.52701162]])"
      ]
     },
     "execution_count": 35,
     "metadata": {},
     "output_type": "execute_result"
    }
   ],
   "source": [
    "v"
   ]
  },
  {
   "cell_type": "code",
   "execution_count": 36,
   "metadata": {},
   "outputs": [
    {
     "name": "stdout",
     "output_type": "stream",
     "text": [
      "[[False  True False]\n",
      " [False False False]\n",
      " [False False  True]]\n"
     ]
    }
   ],
   "source": [
    "print (np.dot(mm,v) == w * v)"
   ]
  },
  {
   "cell_type": "markdown",
   "metadata": {},
   "source": [
    "Как и с матрицей 2х2 у библиотеки **linalg** свой метод поиска собственых значений и векторов."
   ]
  },
  {
   "cell_type": "markdown",
   "metadata": {
    "colab_type": "text",
    "id": "-cd_7eNs8ij6"
   },
   "source": [
    "### Задание 3:"
   ]
  },
  {
   "cell_type": "markdown",
   "metadata": {
    "colab_type": "text",
    "id": "KwmLG5q_8ij9"
   },
   "source": [
    "Найдите спектральное разложение матрицы (честное решение на бумаге и на numpy)"
   ]
  },
  {
   "cell_type": "code",
   "execution_count": 37,
   "metadata": {
    "colab": {},
    "colab_type": "code",
    "id": "uQ6A4RJR8ij_",
    "outputId": "cb400b4e-e588-4176-fa20-66c8c9a2b18c"
   },
   "outputs": [
    {
     "name": "stdout",
     "output_type": "stream",
     "text": [
      "[[1 2]\n",
      " [2 3]]\n"
     ]
    }
   ],
   "source": [
    "m = np.array([[1, 2],\n",
    "              [2,3]])\n",
    "print(m)"
   ]
  },
  {
   "cell_type": "code",
   "execution_count": 38,
   "metadata": {},
   "outputs": [
    {
     "name": "stdout",
     "output_type": "stream",
     "text": [
      "Eigenvalues \n",
      " [-0.23606798  4.23606798]\n",
      "\n",
      " Eigenvectors \n",
      " [[-0.85065081 -0.52573111]\n",
      " [ 0.52573111 -0.85065081]]\n"
     ]
    }
   ],
   "source": [
    "a, U = np.linalg.eig(m)\n",
    "print('Eigenvalues','\\n', a)\n",
    "print('\\n','Eigenvectors','\\n', U)"
   ]
  },
  {
   "cell_type": "code",
   "execution_count": 39,
   "metadata": {},
   "outputs": [
    {
     "name": "stdout",
     "output_type": "stream",
     "text": [
      "[[-0.23606798  0.        ]\n",
      " [ 0.          4.23606798]] \n",
      " [[-0.85065081 -0.52573111]\n",
      " [ 0.52573111 -0.85065081]] \n",
      " [[-0.85065081  0.52573111]\n",
      " [-0.52573111 -0.85065081]]\n"
     ]
    }
   ],
   "source": [
    "D = np.diag(a)\n",
    "\n",
    "print(D, '\\n', U, '\\n', U.T)"
   ]
  },
  {
   "cell_type": "code",
   "execution_count": 40,
   "metadata": {},
   "outputs": [
    {
     "data": {
      "text/plain": [
       "array([[-0.17082039, -0.        ],\n",
       "       [-0.        ,  3.06524758]])"
      ]
     },
     "execution_count": 40,
     "metadata": {},
     "output_type": "execute_result"
    }
   ],
   "source": [
    "U * D * U.T"
   ]
  },
  {
   "cell_type": "markdown",
   "metadata": {
    "colab_type": "text",
    "id": "qCOCGNDa8ikJ"
   },
   "source": [
    "### Задание 4:"
   ]
  },
  {
   "cell_type": "markdown",
   "metadata": {
    "colab_type": "text",
    "id": "obdZuQiR8ikM"
   },
   "source": [
    "Для примера из лекции постройте график зависимости oob_score RandomForestClassifier от количества компонент при сжатии с помощью SVD"
   ]
  },
  {
   "cell_type": "code",
   "execution_count": 41,
   "metadata": {
    "colab": {},
    "colab_type": "code",
    "id": "HL4xpzwG8ikV"
   },
   "outputs": [],
   "source": [
    "float_formatter = lambda x: \"%.2f\" % x\n",
    "np.set_printoptions(formatter={'float_kind':float_formatter})"
   ]
  },
  {
   "cell_type": "code",
   "execution_count": 42,
   "metadata": {
    "colab": {},
    "colab_type": "code",
    "id": "1eOHuVsc8ikd"
   },
   "outputs": [],
   "source": [
    "X, y = load_digits(return_X_y=True)"
   ]
  },
  {
   "cell_type": "code",
   "execution_count": 43,
   "metadata": {
    "colab": {},
    "colab_type": "code",
    "id": "UTY-QMXf8ikl",
    "outputId": "a02de87f-8b2a-417e-ab5a-de8c68a1f908"
   },
   "outputs": [
    {
     "name": "stdout",
     "output_type": "stream",
     "text": [
      "(1797, 64)\n",
      "(1797,)\n"
     ]
    }
   ],
   "source": [
    "print(X.shape)\n",
    "print(y.shape)"
   ]
  },
  {
   "cell_type": "code",
   "execution_count": 44,
   "metadata": {
    "colab": {},
    "colab_type": "code",
    "id": "quUBwYf_8ikz",
    "outputId": "3f4b218f-d940-4391-a587-f811cfcf57e5"
   },
   "outputs": [
    {
     "data": {
      "image/png": "[encoded data removed]",
      "text/plain": [
       "<Figure size 288x288 with 1 Axes>"
      ]
     },
     "metadata": {
      "needs_background": "light"
     },
     "output_type": "display_data"
    }
   ],
   "source": [
    "image = X[0]\n",
    "image = image.reshape((8, 8))\n",
    "plt.matshow(image, cmap = 'gray')\n",
    "plt.show()"
   ]
  },
  {
   "cell_type": "code",
   "execution_count": 45,
   "metadata": {
    "colab": {},
    "colab_type": "code",
    "id": "hCBitSMl8ik9",
    "outputId": "103fc3da-29e5-4a73-c126-f744c54edab8"
   },
   "outputs": [
    {
     "data": {
      "text/plain": [
       "0.5152668958923495"
      ]
     },
     "execution_count": 45,
     "metadata": {},
     "output_type": "execute_result"
    }
   ],
   "source": [
    "svd = TruncatedSVD(n_components=5)\n",
    "X_reduced = svd.fit_transform(X)\n",
    "svd.explained_variance_ratio_.sum()"
   ]
  },
  {
   "cell_type": "code",
   "execution_count": 46,
   "metadata": {
    "colab": {},
    "colab_type": "code",
    "id": "GOI3qZsX8ilM",
    "outputId": "1556c3fa-bfbd-4c08-b4c4-3973fd6488db"
   },
   "outputs": [
    {
     "data": {
      "text/plain": [
       "0.7974401780745687"
      ]
     },
     "execution_count": 46,
     "metadata": {},
     "output_type": "execute_result"
    }
   ],
   "source": [
    "rf_reduced = RandomForestClassifier(oob_score=True)\n",
    "rf_reduced.fit(X_reduced, y)\n",
    "rf_reduced.oob_score_"
   ]
  },
  {
   "cell_type": "code",
   "execution_count": 47,
   "metadata": {
    "colab": {},
    "colab_type": "code",
    "id": "e0LIV2qx8ilZ"
   },
   "outputs": [],
   "source": [
    "def oob_scor(image, n_components):\n",
    "    from sklearn.decomposition import TruncatedSVD\n",
    "    from sklearn.ensemble import RandomForestClassifier\n",
    "    ratio = []\n",
    "    for i in n_components:\n",
    "        svd = TruncatedSVD(n_components=5)\n",
    "        X_reduced = svd.fit_transform(X)\n",
    "        rf_reduced = RandomForestClassifier(oob_score=True)\n",
    "        rf_reduced.fit(X_reduced, y)\n",
    "        ratio.append(rf_reduced.oob_score_)\n",
    "    return ratio"
   ]
  },
  {
   "cell_type": "code",
   "execution_count": 48,
   "metadata": {},
   "outputs": [
    {
     "data": {
      "text/plain": [
       "array([50.00, 45.00, 40.00, 35.00, 30.00, 25.00, 20.00, 15.00, 10.00,\n",
       "       5.00])"
      ]
     },
     "execution_count": 48,
     "metadata": {},
     "output_type": "execute_result"
    }
   ],
   "source": [
    "components = np.linspace(50,5,10)\n",
    "components"
   ]
  },
  {
   "cell_type": "code",
   "execution_count": 49,
   "metadata": {},
   "outputs": [
    {
     "name": "stdout",
     "output_type": "stream",
     "text": [
      "[0.8024485253199778, 0.8013355592654424, 0.7941012799109627, 0.806900389538119, 0.8046744574290484, 0.8030050083472454, 0.8024485253199778, 0.7813021702838063, 0.796883695047301, 0.8074568725653868]\n"
     ]
    }
   ],
   "source": [
    "print(oob_scor(image, components))"
   ]
  },
  {
   "cell_type": "code",
   "execution_count": 50,
   "metadata": {},
   "outputs": [
    {
     "data": {
      "image/png": "[encoded data removed]",
      "text/plain": [
       "<Figure size 432x288 with 1 Axes>"
      ]
     },
     "metadata": {
      "needs_background": "light"
     },
     "output_type": "display_data"
    }
   ],
   "source": [
    "plt.plot(components, oob_scor(image, components))\n",
    "plt.show()"
   ]
  }
 ],
 "metadata": {
  "colab": {
   "collapsed_sections": [],
   "name": "Copy of homework-3.ipynb",
   "provenance": []
  },
  "kernelspec": {
   "display_name": "Python 3",
   "language": "python",
   "name": "python3"
  },
  "language_info": {
   "codemirror_mode": {
    "name": "ipython",
    "version": 3
   },
   "file_extension": ".py",
   "mimetype": "text/x-python",
   "name": "python",
   "nbconvert_exporter": "python",
   "pygments_lexer": "ipython3",
   "version": "3.7.3"
  }
 },
 "nbformat": 4,
 "nbformat_minor": 1
}
