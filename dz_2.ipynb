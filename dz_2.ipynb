{
 "cells": [
  {
   "cell_type": "markdown",
   "metadata": {
    "colab_type": "text",
    "id": "view-in-github"
   },
   "source": [
    "<a href=\"https://colab.research.google.com/github/yustinaivanova/math_netology_2/blob/master/dz_2.ipynb\" target=\"_parent\"><img src=\"https://colab.research.google.com/assets/colab-badge.svg\" alt=\"Open In Colab\"/></a>"
   ]
  },
  {
   "cell_type": "markdown",
   "metadata": {
    "colab_type": "text",
    "id": "hTHl3kyDWIGO"
   },
   "source": [
    "# Математики для data science.\n",
    "# Домашнее задание 2."
   ]
  },
  {
   "cell_type": "markdown",
   "metadata": {
    "colab_type": "text",
    "id": "OAJG6826Pnft"
   },
   "source": [
    "**Задание на отображение множеств.**"
   ]
  },
  {
   "cell_type": "markdown",
   "metadata": {
    "colab_type": "text",
    "id": "lHtJSvE3Pt9i"
   },
   "source": [
    "**Задание 1.**"
   ]
  },
  {
   "cell_type": "markdown",
   "metadata": {
    "colab_type": "text",
    "id": "pRTF1ROCPxoR"
   },
   "source": [
    "Написать функцию отображения элементов одного множества в другое. Первое множество - художники, второе множество - картины художников.\n",
    "Множество художников - Серов, Левитан, Репин, Васнецов, Шишкин. \n",
    "Множество картин - \"Утро в сосновом бору\", \"Богатыри\", \"Золотая осень\", \"Девочка с персиками\", \"Запорожцы\", \"Буралки на Волге\", \"Март\", \"Алёнушка\". \n"
   ]
  },
  {
   "cell_type": "code",
   "execution_count": 83,
   "metadata": {},
   "outputs": [],
   "source": [
    "artists = set(['Серов', 'Левитан', 'Репин', 'Васнецов', 'Шишкин'])"
   ]
  },
  {
   "cell_type": "code",
   "execution_count": 84,
   "metadata": {},
   "outputs": [],
   "source": [
    "dict_artist = {}\n",
    "dict_artist['Серов'] = [\"Девочка с персиками\"]\n",
    "dict_artist['Шишкин'] = [\"Утро в сосновом бору\"]\n",
    "dict_artist['Васнецов'] = [\"Богатыри\",  \"Алёнушка\"]\n",
    "dict_artist['Левитан'] = [\"Золотая осень\", \"Март\"]\n",
    "dict_artist['Репин'] = [\"Запорожцы\", \"Буралки на Волге\"]"
   ]
  },
  {
   "cell_type": "code",
   "execution_count": 85,
   "metadata": {},
   "outputs": [
    {
     "name": "stdout",
     "output_type": "stream",
     "text": [
      "Левитан : ['Золотая осень', 'Март']\n",
      "Васнецов : ['Богатыри', 'Алёнушка']\n",
      "Шишкин : ['Утро в сосновом бору']\n",
      "Серов : ['Девочка с персиками']\n",
      "Репин : ['Запорожцы', 'Буралки на Волге']\n"
     ]
    }
   ],
   "source": [
    "for elem in artists:\n",
    "    print( elem, ':', dict_artist[elem])"
   ]
  },
  {
   "cell_type": "markdown",
   "metadata": {
    "colab_type": "text",
    "id": "4QwS5m7CWXY3"
   },
   "source": [
    "**Полиномиальные функции.**"
   ]
  },
  {
   "cell_type": "markdown",
   "metadata": {
    "colab_type": "text",
    "id": "thQjcSL7WbIY"
   },
   "source": [
    "**Задание 2**. Найти из следующих функций те, которые являются полиномиальной функцией."
   ]
  },
  {
   "cell_type": "markdown",
   "metadata": {
    "colab_type": "text",
    "id": "GbDQjj-pWjqm"
   },
   "source": [
    "1  $$f(x)=\\frac{1}{2}x^{6}-1\\frac{5}{6}x+\\frac{1}{3}$$\n",
    "\n",
    "2  $$f(x)=\\frac{3x^{6}-11x+2}{6}$$\n",
    "\n",
    "3  $$f(x)=\\frac{3x^{6}-11x+2}{6x}$$\n",
    "\n",
    "4  $$f(x)=x^{5}-3x^{2}+7x^{-2}$$\n",
    "\n",
    "5  $$f(x)=(5x^{2}-2)^3-\\frac{1}{2}x^{3}$$\n",
    "\n",
    "6  $$f(x)=(1+\\sqrt{x})^{3}-5(1+\\sqrt{x})$$\n",
    "\n",
    "7  $$f(x)=\\pi $$\n"
   ]
  },
  {
   "cell_type": "markdown",
   "metadata": {},
   "source": [
    "Полиномиальные функции:\n",
    "- полином 6 степени: ф-ции 1, 2, 5\n",
    "- по определению, показатели степени полинома - целые, то есть, не являются полиномами: 3, 4, 6\n",
    "- ф-цию 7 также можно считать полиномиальной, у которой все коэффициенты кроме свободного члена равны 0."
   ]
  },
  {
   "cell_type": "markdown",
   "metadata": {
    "colab_type": "text",
    "id": "2SOZDLZQW9vK"
   },
   "source": [
    "**Задание 3**. Раскрыть скобки для следующего полинома $$(2x+1)^{2}(x-1)-x(4x^{2}-1)-x(4x^{2}-1)=ax^3+bx^2+cx+d$$ найти коэффициенты для a, b, c, d."
   ]
  },
  {
   "cell_type": "markdown",
   "metadata": {
    "colab_type": "text",
    "id": "FW0p4xjzIdRZ"
   },
   "source": [
    "Для данного задания полезно использовать следующие формулы сокращенного умножения:\n",
    "![alt text](https://sun9-38.userapi.com/c851232/v851232044/19c5b0/7Yy6qz-MUHA.jpg)"
   ]
  },
  {
   "cell_type": "markdown",
   "metadata": {},
   "source": [
    "Преобразование:\n",
    "$$(2x+1)^{2}(x-1)-2x(2x-1)(2x+1)=$$\n",
    "$$(2x+1)((2x+1)(x-1)-2x(2x-1))=$$\n",
    "$$(2x+1)(2x^{2}-2x+x-1-4x^{2}+2x)=$$\n",
    "$$(2x+1)(-2x^{2}+x-1)=$$\n",
    "$$-1(2x+1)(2x^{2}-x+1)=$$\n",
    "$$-1(4x^{3}+2x^{2}-2x^{2}-x+2x+1=$$\n",
    "$$-4x^{3}-x-1$$"
   ]
  },
  {
   "cell_type": "markdown",
   "metadata": {},
   "source": [
    "**a** = -4\n",
    "\n",
    "**b** = 0\n",
    "\n",
    "**c** = -1\n",
    "\n",
    "**d** = -1"
   ]
  },
  {
   "cell_type": "markdown",
   "metadata": {
    "colab_type": "text",
    "id": "hETFA0bzXYdw"
   },
   "source": [
    "Чему равна степень полинома?"
   ]
  },
  {
   "cell_type": "markdown",
   "metadata": {},
   "source": [
    "Степень полинома: **3**"
   ]
  },
  {
   "cell_type": "markdown",
   "metadata": {
    "colab_type": "text",
    "id": "EH8FFbsvt64f"
   },
   "source": [
    "Нарисовать график для полинома."
   ]
  },
  {
   "cell_type": "code",
   "execution_count": 86,
   "metadata": {
    "colab": {},
    "colab_type": "code",
    "id": "wk89rocGSoYC"
   },
   "outputs": [],
   "source": [
    "def func1(x):\n",
    "    y = -4 * pow(x,3) - x - 1\n",
    "    return y\n",
    "  "
   ]
  },
  {
   "cell_type": "code",
   "execution_count": 87,
   "metadata": {},
   "outputs": [
    {
     "data": {
      "image/png": "[encoded data removed]",
      "text/plain": [
       "<Figure size 432x288 with 1 Axes>"
      ]
     },
     "metadata": {
      "needs_background": "light"
     },
     "output_type": "display_data"
    }
   ],
   "source": [
    "import numpy as np\n",
    "import matplotlib.pyplot as plt\n",
    "\n",
    "# создаем вектор x\n",
    "x1 = np.linspace(-3.0, 3.0, 100)\n",
    "# на основе вектора x строим значения для вектора y\n",
    "y1 = [func1(x1[i]) for i in range(len(x1))]\n",
    "\n",
    "plt.plot(x1, y1)\n",
    "plt.title('График функции'+'-4x^3 -x -1')\n",
    "plt.ylabel('y')\n",
    "plt.xlabel('x')\n",
    "\n",
    "plt.show()"
   ]
  },
  {
   "cell_type": "markdown",
   "metadata": {
    "colab_type": "text",
    "id": "YnGld7mvZNUB"
   },
   "source": [
    "**Задание 3**.\n",
    "Для заданных функций найти подходящий график (не все функции имеют график):\n",
    "\n",
    "1 $$\\frac{3}{4}x-1$$\n",
    "2 $$\\frac{3}{4}x+2$$ \n",
    "3 $$2-2x$$\n",
    "4 $$2+2x$$\n",
    "5 $$\\frac{1}{4}(x+1)^{2}-2 $$\n",
    "6 $$\\frac{1}{4}(x-1)^2-2$$\n",
    "7 $$(x-1)(x-3)$$\n",
    "8 $$(x+1)(x+3)$$\n",
    "9 $$2-x^2$$\n",
    "10 $$2-\\frac{1}{4}x^2$$"
   ]
  },
  {
   "cell_type": "markdown",
   "metadata": {
    "colab_type": "text",
    "id": "8TCnR4urZX_A"
   },
   "source": [
    "![alt text](https://pp.userapi.com/c855532/v855532908/aadd4/uWjIZGDfw0s.jpg)"
   ]
  },
  {
   "cell_type": "markdown",
   "metadata": {},
   "source": [
    "- Ф-ция 1 - нижний средний, прямая в нечетных квадрантах (коэфф положительный), пересекает ось ординат в точке (0,-1)\n",
    "- Ф-ция 2 - нет графика, должна быть прямая в нечетных квадрантах и пересекать ось ординат в точке (0,2)\n",
    "- Ф-ция 3 - верхний левый, прямая в четных квадрантах (коэфф отрицательный), пересекает ось ординат в точке (0,2)\n",
    "- Ф-ция 4 - нет графика, должна быть прямая в нечетных квадрантах и пересекать ось ординат в точке (0,2)\n",
    "- Ф-ция 5 - нижний левый (точка минимума (-1,-2))\n",
    "- Ф-ция 6 - нет графика, она похожа на предыдущую, но точка минимума другая (1,-2)\n",
    "- Ф-ция 7 - нижний правый, две точки пересечения с осью абсцисс (1,0) и (3,0), парабола непереревернутая\n",
    "- Ф-ция 8 - нет графика, должна иметь две точки пересечения с осью абсцисс (-1,0) и (-3,0), парабола неперевернутая - такого нет\n",
    "- Ф-ция 9 - верхний правый, парабола перевернутая, вершина на оси ординат в точке (0,2)\n",
    "- Ф-ция 10 - верхний средний, аналогичный предыдущему, но парабола менее острая за счет коэфф 1/4"
   ]
  },
  {
   "cell_type": "markdown",
   "metadata": {
    "colab_type": "text",
    "id": "v4PsJSrlbGni"
   },
   "source": [
    "**Задание 4.** Найти минимальную степень следующего полинома:\n",
    "\n",
    "![alt text](https://pp.userapi.com/c855532/v855532908/aadcd/PZdPYTQT02A.jpg)"
   ]
  },
  {
   "cell_type": "markdown",
   "metadata": {},
   "source": [
    "По правилу о количестве пересечений с осью абсцисс, которых 5, степень полинома не выше 5."
   ]
  },
  {
   "cell_type": "markdown",
   "metadata": {
    "colab_type": "text",
    "id": "In-LISkBGJ1u"
   },
   "source": [
    "**Задания повышенного уровня**"
   ]
  },
  {
   "cell_type": "markdown",
   "metadata": {
    "colab_type": "text",
    "id": "FGmhJtvceZO6"
   },
   "source": [
    "Почему следующие функции не являются полиномиальными?\n",
    "$$y=5x^{-2}+1$$\n",
    "$$y=3x^{1/2}+2$$\n",
    "$$y=(5x+1)/(3x)$$"
   ]
  },
  {
   "cell_type": "markdown",
   "metadata": {},
   "source": [
    "Полином по определению должен иметь **целые положительные степени** при х. Функции **первая** и **третья** имеют отрицательные показатели степени; ф-ция **вторая** имеет нецелый показатель степени"
   ]
  },
  {
   "cell_type": "markdown",
   "metadata": {
    "colab_type": "text",
    "id": "XyzbTtgEezLl"
   },
   "source": [
    "Найдите наибольшее и наименьшее значение функции $y = x^3 + 2x^2 + x + 3 $ на отрезке [-4;-1]. "
   ]
  },
  {
   "cell_type": "markdown",
   "metadata": {},
   "source": [
    "Поведение функции на указанном отрезке не очевидно и требует некоторых исследований. Мы знаем, что кубическая ф-ция имеет локальные экстремумы и имеет точку перегиба. Для нашей ф-ции точки локальных экстремумов можем найти из равенства первой производной 0, дифференцируя и решая квадратное уравнение, получаем одну из точек локального экстремума при х = -1, входящего в наш отрезок. Точка перегиба определяется при равенстве второй производной нулю, откуда х = -2/3, она находится за пределами данного нам отрезка.\n",
    "Посмотрим графически, взяв границы за пределами данного нам отрезка:"
   ]
  },
  {
   "cell_type": "code",
   "execution_count": 88,
   "metadata": {},
   "outputs": [
    {
     "data": {
      "image/png": "[encoded data removed]",
      "text/plain": [
       "<Figure size 432x288 with 1 Axes>"
      ]
     },
     "metadata": {
      "needs_background": "light"
     },
     "output_type": "display_data"
    }
   ],
   "source": [
    "def func2(x):\n",
    "    y = pow(x,3) + 2 * pow(x,2) + x + 3\n",
    "    return y\n",
    "\n",
    "x1 = np.linspace(-5, 1, 20)\n",
    "y1 = [func2(x1[i]) for i in range(len(x1))]\n",
    "\n",
    "plt.plot(x1, y1)\n",
    "plt.title('График функции')\n",
    "plt.ylabel('y')\n",
    "plt.xlabel('x')\n",
    "\n",
    "plt.show()"
   ]
  },
  {
   "cell_type": "code",
   "execution_count": 89,
   "metadata": {},
   "outputs": [
    {
     "name": "stdout",
     "output_type": "stream",
     "text": [
      "-33\n",
      "3\n",
      "2.925925925925926\n",
      "2.851851851851852\n"
     ]
    }
   ],
   "source": [
    "print(func2(-4))\n",
    "print(func2(-1)) # точка локального максимума\n",
    "print(func2(-2/3)) # точка перегиба\n",
    "print(func2(-1/3)) # точка локального минимума"
   ]
  },
  {
   "cell_type": "markdown",
   "metadata": {
    "colab_type": "text",
    "id": "zZwKoyIwf4SV"
   },
   "source": [
    "Пример линейной регрессии - это применение полиномов на практике. В следующем примере дан датасет x, y, сгенерированный рандомно. Мы можем использовать линейную регрессию, чтобы предсказать значение переменной y от x. "
   ]
  },
  {
   "cell_type": "code",
   "execution_count": 90,
   "metadata": {
    "colab": {
     "base_uri": "https://localhost:8080/",
     "height": 269
    },
    "colab_type": "code",
    "id": "wyWYYrGnWHVk",
    "outputId": "85df8263-3022-4a15-8a64-204ec3ec56a6"
   },
   "outputs": [
    {
     "data": {
      "image/png": "[encoded data removed]",
      "text/plain": [
       "<Figure size 432x288 with 1 Axes>"
      ]
     },
     "metadata": {
      "needs_background": "light"
     },
     "output_type": "display_data"
    }
   ],
   "source": [
    "import numpy as np\n",
    "import matplotlib.pyplot as plt\n",
    "\n",
    "from sklearn.linear_model import LinearRegression\n",
    "from sklearn.metrics import mean_squared_error, mean_absolute_error, r2_score\n",
    "\n",
    "np.random.seed(0)\n",
    "x = 2 - 3 * np.random.normal(0, 1, 20)\n",
    "y = x - 2 * (x ** 2) + 0.5 * (x ** 3) + np.random.normal(-3, 3, 20)\n",
    "\n",
    "# transforming the data to include another axis\n",
    "x = x[:, np.newaxis]\n",
    "y = y[:, np.newaxis]\n",
    "\n",
    "model = LinearRegression()\n",
    "# написать линейную регрессию\n",
    "model.fit(x,y)\n",
    "y_ = model.predict(x)\n",
    "\n",
    "plt.plot(x,y_)\n",
    "plt.scatter(x, y, color = 'r')\n",
    "plt.show()"
   ]
  },
  {
   "cell_type": "markdown",
   "metadata": {
    "colab_type": "text",
    "id": "_jdDSF1KhGCA"
   },
   "source": [
    "В данном примере найден полином первой степени. Как можно улучшить данную модель? Написать пример. "
   ]
  },
  {
   "cell_type": "markdown",
   "metadata": {},
   "source": [
    "По внешнему виду распределение точек нелинейное и похоже на полином 3-й степени - точка перегиба. Используем полином 3-й степени для модели."
   ]
  },
  {
   "cell_type": "code",
   "execution_count": 91,
   "metadata": {},
   "outputs": [
    {
     "data": {
      "image/png": "[encoded data removed]",
      "text/plain": [
       "<Figure size 432x288 with 1 Axes>"
      ]
     },
     "metadata": {
      "needs_background": "light"
     },
     "output_type": "display_data"
    }
   ],
   "source": [
    "from sklearn.preprocessing import PolynomialFeatures\n",
    "from sklearn.pipeline import Pipeline\n",
    "\n",
    "model = Pipeline([('poly', PolynomialFeatures(degree=3)), ('linear', LinearRegression(fit_intercept=False))])\n",
    "\n",
    "model.fit(x,y)\n",
    "\n",
    "y_ = model.predict(x)\n",
    "\n",
    "plt.scatter(x, y_, color = 'b')\n",
    "plt.show()"
   ]
  }
 ],
 "metadata": {
  "colab": {
   "include_colab_link": true,
   "name": "Untitled2.ipynb",
   "provenance": []
  },
  "kernelspec": {
   "display_name": "Python 3",
   "language": "python",
   "name": "python3"
  },
  "language_info": {
   "codemirror_mode": {
    "name": "ipython",
    "version": 3
   },
   "file_extension": ".py",
   "mimetype": "text/x-python",
   "name": "python",
   "nbconvert_exporter": "python",
   "pygments_lexer": "ipython3",
   "version": "3.7.3"
  }
 },
 "nbformat": 4,
 "nbformat_minor": 1
}
