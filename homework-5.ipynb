{
 "cells": [
  {
   "cell_type": "code",
   "execution_count": 102,
   "metadata": {},
   "outputs": [],
   "source": [
    "import numpy as np\n",
    "import matplotlib.pyplot as plt\n",
    "from scipy.optimize import approx_fprime\n",
    "from scipy.optimize import minimize\n",
    "from math import cos, sin"
   ]
  },
  {
   "cell_type": "markdown",
   "metadata": {},
   "source": [
    "### Задание 1: \n",
    "Посчитайте частные производные функций в точках\n",
    "(как обычно, необходимо решение на бумажке или в LaTeX и на numpy):"
   ]
  },
  {
   "cell_type": "markdown",
   "metadata": {},
   "source": [
    "1) $f(x,y)=2x^2y^3 + 1/x + y^2x + 7$ в точке $(1,2)$\n",
    "\n",
    "2) $f(x,y)=x^2y - sin(xy) + cos(x^2) + 6y$"
   ]
  },
  {
   "cell_type": "markdown",
   "metadata": {},
   "source": [
    "1) \n",
    "\n",
    " $ f'_x (x,y) = 4xy^3 - 1/x^2 + y^2 $\n",
    " \n",
    " $ f'_x (1,2) = 4*1*2^3 - 1/1^2 + 2^2 = 32 - 1 + 4 = 35 $\n",
    " \n",
    " $ f'_x (1,2) = 35 $\n",
    " \n",
    " $ f'_y (x,y) = 6x^2y^2 + 2yx $\n",
    " \n",
    " $ f'_y (1,2) = 6*1^2*2^2 + 2*2*1 = 24 + 4 = 28 $\n",
    " \n",
    " $ f'_y (1,2) = 28 $"
   ]
  },
  {
   "cell_type": "markdown",
   "metadata": {},
   "source": [
    "2)\n",
    "\n",
    "$ f'_x (x,y) = 2xy - y*cos(xy) - 2x*sin(x^2) $\n",
    "\n",
    "$ f'_x (1,2) = 2*1*2 - 2*cos(1*2) - 2*1*sin(1^2) $\n",
    "\n",
    "$ f'_x (1,2) = 4 - 0.832 - 1.683 = 1.485 $\n",
    "\n",
    "$ f'_y (x,y) = x^2 - x*cos(xy) + 6 $\n",
    "\n",
    "$ f'_y (1,2) = 1^2 - 1*cos(1*2) + 6 $\n",
    "\n",
    "$ f'_y (1,2) = 2 - 0.416 + 6 = 7.584 $"
   ]
  },
  {
   "cell_type": "code",
   "execution_count": 103,
   "metadata": {},
   "outputs": [],
   "source": [
    "def f1 (x):\n",
    "    return (2 * pow(x[0], 2) * pow(x[1], 3)) + (1/x[0]) + (pow(x[1], 2) * x[0]) + 7"
   ]
  },
  {
   "cell_type": "code",
   "execution_count": 104,
   "metadata": {},
   "outputs": [
    {
     "data": {
      "text/plain": [
       "1.1920929e-07"
      ]
     },
     "execution_count": 104,
     "metadata": {},
     "output_type": "execute_result"
    }
   ],
   "source": [
    "eps = np.finfo(np.float32).eps\n",
    "eps"
   ]
  },
  {
   "cell_type": "code",
   "execution_count": 105,
   "metadata": {},
   "outputs": [],
   "source": [
    "x = [1, 2]"
   ]
  },
  {
   "cell_type": "code",
   "execution_count": 106,
   "metadata": {},
   "outputs": [
    {
     "data": {
      "text/plain": [
       "array([35.00000203, 28.00000155])"
      ]
     },
     "execution_count": 106,
     "metadata": {},
     "output_type": "execute_result"
    }
   ],
   "source": [
    "approx_fprime(x, f1, [eps, eps])"
   ]
  },
  {
   "cell_type": "code",
   "execution_count": 107,
   "metadata": {},
   "outputs": [
    {
     "data": {
      "text/plain": [
       "2.220446049250313e-16"
      ]
     },
     "execution_count": 107,
     "metadata": {},
     "output_type": "execute_result"
    }
   ],
   "source": [
    "eps1 = np.finfo(float).eps\n",
    "eps1"
   ]
  },
  {
   "cell_type": "code",
   "execution_count": 108,
   "metadata": {},
   "outputs": [
    {
     "data": {
      "text/plain": [
       "array([32.,  0.])"
      ]
     },
     "execution_count": 108,
     "metadata": {},
     "output_type": "execute_result"
    }
   ],
   "source": [
    "approx_fprime(x, f1, [eps1, eps1])"
   ]
  },
  {
   "cell_type": "code",
   "execution_count": 109,
   "metadata": {},
   "outputs": [],
   "source": [
    "def f2(x):\n",
    "    return pow(x[0], 2) * x[1] - sin(x[0] * x[1]) + cos(pow(x[0], 2)) + 6 * x[1]"
   ]
  },
  {
   "cell_type": "code",
   "execution_count": 110,
   "metadata": {},
   "outputs": [
    {
     "data": {
      "text/plain": [
       "array([3.14935194, 7.4161469 ])"
      ]
     },
     "execution_count": 110,
     "metadata": {},
     "output_type": "execute_result"
    }
   ],
   "source": [
    "approx_fprime(x, f2, [eps, eps])"
   ]
  },
  {
   "cell_type": "code",
   "execution_count": 111,
   "metadata": {},
   "outputs": [
    {
     "data": {
      "text/plain": [
       "array([8., 0.])"
      ]
     },
     "execution_count": 111,
     "metadata": {},
     "output_type": "execute_result"
    }
   ],
   "source": [
    "approx_fprime(x, f2, [eps1, eps1])"
   ]
  },
  {
   "cell_type": "markdown",
   "metadata": {},
   "source": [
    "Видим, насколько результат вычисления градиента отличается при разных условиях, передаваемых встроенной функции. При существенном уменьшении шага приближения, результат получается совсем неверный. Для комбинации периодических функций результат не вполне верный."
   ]
  },
  {
   "cell_type": "markdown",
   "metadata": {},
   "source": [
    "### Задание 2:\n",
    "\n",
    "Градиентный спуск своими руками"
   ]
  },
  {
   "cell_type": "code",
   "execution_count": 112,
   "metadata": {},
   "outputs": [],
   "source": [
    "def f(x):\n",
    "    return (x[0]**2) + (x[1]**2) "
   ]
  },
  {
   "cell_type": "code",
   "execution_count": 113,
   "metadata": {},
   "outputs": [],
   "source": [
    "x = np.array([100, 200])\n",
    "lr = 0.1"
   ]
  },
  {
   "cell_type": "markdown",
   "metadata": {},
   "source": [
    "Поскольку функция имеет простой вид, частные производные включим в цикл сразу в виде арифметических выражений"
   ]
  },
  {
   "cell_type": "code",
   "execution_count": 114,
   "metadata": {},
   "outputs": [
    {
     "data": {
      "text/plain": [
       "array([2.03703598e-08, 4.07407195e-08])"
      ]
     },
     "execution_count": 114,
     "metadata": {},
     "output_type": "execute_result"
    }
   ],
   "source": [
    "for i in range(100):\n",
    "    # Calculate gradient\n",
    "    grad = np.array([2*x[0], 2*x[1]]) # Your code here (функция для вычисления градиента есть в лекционном ноутбуке)\n",
    "    \n",
    "    # Update x with gradient\n",
    "    x = x - lr * grad # Your code here (смотри слайд презентации про градиентный спуск)\n",
    "x"
   ]
  },
  {
   "cell_type": "code",
   "execution_count": 115,
   "metadata": {},
   "outputs": [
    {
     "name": "stdout",
     "output_type": "stream",
     "text": [
      "Минимум достигается в:  [2.03703598e-08 4.07407195e-08]\n",
      "Значение функции в минимуме:  2.0747577844404994e-15\n"
     ]
    }
   ],
   "source": [
    "print(\"Минимум достигается в: \", x)\n",
    "print(\"Значение функции в минимуме: \", f(x))"
   ]
  },
  {
   "cell_type": "markdown",
   "metadata": {},
   "source": [
    "Из общих свойств полиномов мы знаем, что функция будет иметь глобальный минимум в точке (0,0). Градиентный спуск остановился на значаниях аргументов порядка $10^{-18}$ что сопоставимо с 0 в условиях допустимой погрешности."
   ]
  },
  {
   "cell_type": "markdown",
   "metadata": {},
   "source": [
    "Проверка с помощью встроенной функции numpy: "
   ]
  },
  {
   "cell_type": "code",
   "execution_count": 116,
   "metadata": {},
   "outputs": [],
   "source": [
    "x = np.array([100, 200]) # Необходимо переопределить х на начальные уровни"
   ]
  },
  {
   "cell_type": "code",
   "execution_count": 117,
   "metadata": {},
   "outputs": [
    {
     "name": "stdout",
     "output_type": "stream",
     "text": [
      "Optimization terminated successfully.\n",
      "         Current function value: 0.000000\n",
      "         Iterations: 85\n",
      "         Function evaluations: 164\n"
     ]
    }
   ],
   "source": [
    "res = minimize(f, x, method='nelder-mead', options={'xtol': 1e-8, 'disp': True})"
   ]
  }
 ],
 "metadata": {
  "kernelspec": {
   "display_name": "Python 3",
   "language": "python",
   "name": "python3"
  },
  "language_info": {
   "codemirror_mode": {
    "name": "ipython",
    "version": 3
   },
   "file_extension": ".py",
   "mimetype": "text/x-python",
   "name": "python",
   "nbconvert_exporter": "python",
   "pygments_lexer": "ipython3",
   "version": "3.7.3"
  }
 },
 "nbformat": 4,
 "nbformat_minor": 2
}
